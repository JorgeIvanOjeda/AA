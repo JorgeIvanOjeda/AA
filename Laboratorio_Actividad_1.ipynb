{
 "cells": [
  {
   "cell_type": "markdown",
   "id": "e7acabdb",
   "metadata": {},
   "source": [
    "_Aprendizaje Automático_\n",
    "\n",
    "_Máster Universitario en Inteligencia Artificial_\n",
    "\n",
    "# Laboratorio: Regresión lineal y árboles de decisión para tareas de regresión\n",
    "\n",
    "\n",
    "## Objetivos\n",
    "\n",
    "Mediante esta actividad se pretende que ponga en práctica los pasos para la resolución de un problema de machine learning, el tratamiento de datos y la creación de modelos basados en regresión lineal y árboles de decisión. El objetivo es comprender de forma práctica con un problema determinado las diferencias que existen a la hora de entrenar los diferentes modelos.\n",
    "\n",
    "- Iniciarse en el Análisis Exploratorio de Datos (EDA) para los problemas de Machine Learning.\n",
    "- Entender y aplicar los conceptos de la Regresión Lineal Múltiple a un problema de regresión.\n",
    "- Entender y aplicar los conceptos de Árboles de Decisión a un problema de regresión.\n",
    "- Evaluar y analizar los resultados de los clasificadores.\n",
    "- Investigar la aplicación de los modelos de clasificación a problemas reales.\n",
    "\n",
    "\n",
    "## Descripción de la actividad\n",
    "\n",
    "Debes completar los espacios indicados en el notebook con el código solicitado y la respuesta, en función de lo que se solicite. Ten encuenta que las celdas vacías indican cuántas líneas debe ocupar la respuesta, por lo general no más de una línea.\n",
    "\n",
    "El conjunto de datos con el que vamos a trabajar se encuentra en el siguiente enlace: https://archive-beta.ics.uci.edu/dataset/360/air+quality\n",
    "\n",
    "Se trata de un dataset con un conjunto de datos sobre calidad del aire. El conjunto de datos contiene 9358 instancias de respuestas promediadas por hora de una matriz de 5 sensores químicos de óxido de metal integrados en un dispositivo multisensor químico de calidad del aire. El dispositivo estaba ubicado en un área significativamente contaminada, al nivel de la carretera, dentro de una ciudad italiana. Los datos se registraron desde marzo de 2004 hasta febrero de 2005 (un año).\n",
    "\n",
    "El objetivo de la regresión será predecir la calidad del aire para un determinado día.\n",
    "\n",
    "### Tareas que se deben realizar\n",
    "\n",
    "- Análisis descriptivo de los datos:\n",
    "   - Debe completarse el código solicitado y responder a las preguntas. Todo ello en el notebook dado como base.\n",
    "- Regresión:\n",
    "  - Debe completarse el código solicitado y responder a las preguntas. Todo ello en el notebook dado como base.\n",
    "- Investigación:\n",
    "  - Buscar un artículo científico (https://scholar.google.es/) con un caso de uso de regresión empleando una de las dos técnicas (o ambas) vistas en la actividad. Los artículos deben estar en revistas científicas, y deben ser posteriores a 2015. No debe utilizar técnicas de Deep Learning.\n",
    "  - Para el artículo indicar:\n",
    "    - Objetivo: cuál es el objetivo de la investigación, es decir a qué problema real está aplicando la regresión.\n",
    "    - Cómo utilizan las técnicas de regresión, si realizan alguna adaptación de los algoritmos indicarse.\n",
    "    - Principales resultados de la aplicación y de la investigación.\n"
   ]
  },
  {
   "cell_type": "markdown",
   "id": "19ceaba2",
   "metadata": {},
   "source": [
    "### Análisis descriptivo de los datos\n",
    "A continuación vas a encontrar una serie de preguntas que tendrás que responder. Para responder tendrás que escribir (y ejecutar) una (o más de una) línea de código, y a continuación indicar la respuesta en la celda indicada."
   ]
  },
  {
   "cell_type": "code",
   "execution_count": 1,
   "id": "bff4b5f9",
   "metadata": {},
   "outputs": [],
   "source": [
    "## cargar el dataset"
   ]
  },
  {
   "cell_type": "code",
   "execution_count": 17,
   "id": "933235df",
   "metadata": {},
   "outputs": [
    {
     "data": {
      "text/html": [
       "<div>\n",
       "<style scoped>\n",
       "    .dataframe tbody tr th:only-of-type {\n",
       "        vertical-align: middle;\n",
       "    }\n",
       "\n",
       "    .dataframe tbody tr th {\n",
       "        vertical-align: top;\n",
       "    }\n",
       "\n",
       "    .dataframe thead th {\n",
       "        text-align: right;\n",
       "    }\n",
       "</style>\n",
       "<table border=\"1\" class=\"dataframe\">\n",
       "  <thead>\n",
       "    <tr style=\"text-align: right;\">\n",
       "      <th></th>\n",
       "      <th>Date</th>\n",
       "      <th>Time</th>\n",
       "      <th>CO(GT)</th>\n",
       "      <th>PT08.S1(CO)</th>\n",
       "      <th>NMHC(GT)</th>\n",
       "      <th>C6H6(GT)</th>\n",
       "      <th>PT08.S2(NMHC)</th>\n",
       "      <th>NOx(GT)</th>\n",
       "      <th>PT08.S3(NOx)</th>\n",
       "      <th>NO2(GT)</th>\n",
       "      <th>PT08.S4(NO2)</th>\n",
       "      <th>PT08.S5(O3)</th>\n",
       "      <th>T</th>\n",
       "      <th>RH</th>\n",
       "      <th>AH</th>\n",
       "    </tr>\n",
       "  </thead>\n",
       "  <tbody>\n",
       "    <tr>\n",
       "      <th>0</th>\n",
       "      <td>2004-03-10</td>\n",
       "      <td>18:00:00</td>\n",
       "      <td>2.6</td>\n",
       "      <td>1360.00</td>\n",
       "      <td>150</td>\n",
       "      <td>11.881723</td>\n",
       "      <td>1045.50</td>\n",
       "      <td>166.0</td>\n",
       "      <td>1056.25</td>\n",
       "      <td>113.0</td>\n",
       "      <td>1692.00</td>\n",
       "      <td>1267.50</td>\n",
       "      <td>13.600</td>\n",
       "      <td>48.875001</td>\n",
       "      <td>0.757754</td>\n",
       "    </tr>\n",
       "    <tr>\n",
       "      <th>1</th>\n",
       "      <td>2004-03-10</td>\n",
       "      <td>19:00:00</td>\n",
       "      <td>2.0</td>\n",
       "      <td>1292.25</td>\n",
       "      <td>112</td>\n",
       "      <td>9.397165</td>\n",
       "      <td>954.75</td>\n",
       "      <td>103.0</td>\n",
       "      <td>1173.75</td>\n",
       "      <td>92.0</td>\n",
       "      <td>1558.75</td>\n",
       "      <td>972.25</td>\n",
       "      <td>13.300</td>\n",
       "      <td>47.700000</td>\n",
       "      <td>0.725487</td>\n",
       "    </tr>\n",
       "    <tr>\n",
       "      <th>2</th>\n",
       "      <td>2004-03-10</td>\n",
       "      <td>20:00:00</td>\n",
       "      <td>2.2</td>\n",
       "      <td>1402.00</td>\n",
       "      <td>88</td>\n",
       "      <td>8.997817</td>\n",
       "      <td>939.25</td>\n",
       "      <td>131.0</td>\n",
       "      <td>1140.00</td>\n",
       "      <td>114.0</td>\n",
       "      <td>1554.50</td>\n",
       "      <td>1074.00</td>\n",
       "      <td>11.900</td>\n",
       "      <td>53.975000</td>\n",
       "      <td>0.750239</td>\n",
       "    </tr>\n",
       "    <tr>\n",
       "      <th>3</th>\n",
       "      <td>2004-03-10</td>\n",
       "      <td>21:00:00</td>\n",
       "      <td>2.2</td>\n",
       "      <td>1375.50</td>\n",
       "      <td>80</td>\n",
       "      <td>9.228796</td>\n",
       "      <td>948.25</td>\n",
       "      <td>172.0</td>\n",
       "      <td>1092.00</td>\n",
       "      <td>122.0</td>\n",
       "      <td>1583.75</td>\n",
       "      <td>1203.25</td>\n",
       "      <td>11.000</td>\n",
       "      <td>60.000000</td>\n",
       "      <td>0.786713</td>\n",
       "    </tr>\n",
       "    <tr>\n",
       "      <th>4</th>\n",
       "      <td>2004-03-10</td>\n",
       "      <td>22:00:00</td>\n",
       "      <td>1.6</td>\n",
       "      <td>1272.25</td>\n",
       "      <td>51</td>\n",
       "      <td>6.518224</td>\n",
       "      <td>835.50</td>\n",
       "      <td>131.0</td>\n",
       "      <td>1205.00</td>\n",
       "      <td>116.0</td>\n",
       "      <td>1490.00</td>\n",
       "      <td>1110.00</td>\n",
       "      <td>11.150</td>\n",
       "      <td>59.575001</td>\n",
       "      <td>0.788794</td>\n",
       "    </tr>\n",
       "    <tr>\n",
       "      <th>...</th>\n",
       "      <td>...</td>\n",
       "      <td>...</td>\n",
       "      <td>...</td>\n",
       "      <td>...</td>\n",
       "      <td>...</td>\n",
       "      <td>...</td>\n",
       "      <td>...</td>\n",
       "      <td>...</td>\n",
       "      <td>...</td>\n",
       "      <td>...</td>\n",
       "      <td>...</td>\n",
       "      <td>...</td>\n",
       "      <td>...</td>\n",
       "      <td>...</td>\n",
       "      <td>...</td>\n",
       "    </tr>\n",
       "    <tr>\n",
       "      <th>9352</th>\n",
       "      <td>2005-04-04</td>\n",
       "      <td>10:00:00</td>\n",
       "      <td>3.1</td>\n",
       "      <td>1314.25</td>\n",
       "      <td>-200</td>\n",
       "      <td>13.529605</td>\n",
       "      <td>1101.25</td>\n",
       "      <td>471.7</td>\n",
       "      <td>538.50</td>\n",
       "      <td>189.8</td>\n",
       "      <td>1374.25</td>\n",
       "      <td>1728.50</td>\n",
       "      <td>21.850</td>\n",
       "      <td>29.250000</td>\n",
       "      <td>0.756824</td>\n",
       "    </tr>\n",
       "    <tr>\n",
       "      <th>9353</th>\n",
       "      <td>2005-04-04</td>\n",
       "      <td>11:00:00</td>\n",
       "      <td>2.4</td>\n",
       "      <td>1162.50</td>\n",
       "      <td>-200</td>\n",
       "      <td>11.355157</td>\n",
       "      <td>1027.00</td>\n",
       "      <td>353.3</td>\n",
       "      <td>603.75</td>\n",
       "      <td>179.2</td>\n",
       "      <td>1263.50</td>\n",
       "      <td>1269.00</td>\n",
       "      <td>24.325</td>\n",
       "      <td>23.725000</td>\n",
       "      <td>0.711864</td>\n",
       "    </tr>\n",
       "    <tr>\n",
       "      <th>9354</th>\n",
       "      <td>2005-04-04</td>\n",
       "      <td>12:00:00</td>\n",
       "      <td>2.4</td>\n",
       "      <td>1142.00</td>\n",
       "      <td>-200</td>\n",
       "      <td>12.374538</td>\n",
       "      <td>1062.50</td>\n",
       "      <td>293.0</td>\n",
       "      <td>603.25</td>\n",
       "      <td>174.7</td>\n",
       "      <td>1240.75</td>\n",
       "      <td>1092.00</td>\n",
       "      <td>26.900</td>\n",
       "      <td>18.350000</td>\n",
       "      <td>0.640649</td>\n",
       "    </tr>\n",
       "    <tr>\n",
       "      <th>9355</th>\n",
       "      <td>2005-04-04</td>\n",
       "      <td>13:00:00</td>\n",
       "      <td>2.1</td>\n",
       "      <td>1002.50</td>\n",
       "      <td>-200</td>\n",
       "      <td>9.547187</td>\n",
       "      <td>960.50</td>\n",
       "      <td>234.5</td>\n",
       "      <td>701.50</td>\n",
       "      <td>155.7</td>\n",
       "      <td>1041.00</td>\n",
       "      <td>769.75</td>\n",
       "      <td>28.325</td>\n",
       "      <td>13.550000</td>\n",
       "      <td>0.513866</td>\n",
       "    </tr>\n",
       "    <tr>\n",
       "      <th>9356</th>\n",
       "      <td>2005-04-04</td>\n",
       "      <td>14:00:00</td>\n",
       "      <td>2.2</td>\n",
       "      <td>1070.75</td>\n",
       "      <td>-200</td>\n",
       "      <td>11.932060</td>\n",
       "      <td>1047.25</td>\n",
       "      <td>265.2</td>\n",
       "      <td>654.00</td>\n",
       "      <td>167.7</td>\n",
       "      <td>1128.50</td>\n",
       "      <td>816.00</td>\n",
       "      <td>28.500</td>\n",
       "      <td>13.125000</td>\n",
       "      <td>0.502804</td>\n",
       "    </tr>\n",
       "  </tbody>\n",
       "</table>\n",
       "<p>9357 rows × 15 columns</p>\n",
       "</div>"
      ],
      "text/plain": [
       "           Date      Time  CO(GT)  PT08.S1(CO)  NMHC(GT)   C6H6(GT)  \\\n",
       "0    2004-03-10  18:00:00     2.6      1360.00       150  11.881723   \n",
       "1    2004-03-10  19:00:00     2.0      1292.25       112   9.397165   \n",
       "2    2004-03-10  20:00:00     2.2      1402.00        88   8.997817   \n",
       "3    2004-03-10  21:00:00     2.2      1375.50        80   9.228796   \n",
       "4    2004-03-10  22:00:00     1.6      1272.25        51   6.518224   \n",
       "...         ...       ...     ...          ...       ...        ...   \n",
       "9352 2005-04-04  10:00:00     3.1      1314.25      -200  13.529605   \n",
       "9353 2005-04-04  11:00:00     2.4      1162.50      -200  11.355157   \n",
       "9354 2005-04-04  12:00:00     2.4      1142.00      -200  12.374538   \n",
       "9355 2005-04-04  13:00:00     2.1      1002.50      -200   9.547187   \n",
       "9356 2005-04-04  14:00:00     2.2      1070.75      -200  11.932060   \n",
       "\n",
       "      PT08.S2(NMHC)  NOx(GT)  PT08.S3(NOx)  NO2(GT)  PT08.S4(NO2)  \\\n",
       "0           1045.50    166.0       1056.25    113.0       1692.00   \n",
       "1            954.75    103.0       1173.75     92.0       1558.75   \n",
       "2            939.25    131.0       1140.00    114.0       1554.50   \n",
       "3            948.25    172.0       1092.00    122.0       1583.75   \n",
       "4            835.50    131.0       1205.00    116.0       1490.00   \n",
       "...             ...      ...           ...      ...           ...   \n",
       "9352        1101.25    471.7        538.50    189.8       1374.25   \n",
       "9353        1027.00    353.3        603.75    179.2       1263.50   \n",
       "9354        1062.50    293.0        603.25    174.7       1240.75   \n",
       "9355         960.50    234.5        701.50    155.7       1041.00   \n",
       "9356        1047.25    265.2        654.00    167.7       1128.50   \n",
       "\n",
       "      PT08.S5(O3)       T         RH        AH  \n",
       "0         1267.50  13.600  48.875001  0.757754  \n",
       "1          972.25  13.300  47.700000  0.725487  \n",
       "2         1074.00  11.900  53.975000  0.750239  \n",
       "3         1203.25  11.000  60.000000  0.786713  \n",
       "4         1110.00  11.150  59.575001  0.788794  \n",
       "...           ...     ...        ...       ...  \n",
       "9352      1728.50  21.850  29.250000  0.756824  \n",
       "9353      1269.00  24.325  23.725000  0.711864  \n",
       "9354      1092.00  26.900  18.350000  0.640649  \n",
       "9355       769.75  28.325  13.550000  0.513866  \n",
       "9356       816.00  28.500  13.125000  0.502804  \n",
       "\n",
       "[9357 rows x 15 columns]"
      ]
     },
     "execution_count": 17,
     "metadata": {},
     "output_type": "execute_result"
    }
   ],
   "source": [
    "import pandas as pd\n",
    "data=pd.read_excel('AirQualityUCI.xlsx')\n",
    "data"
   ]
  },
  {
   "cell_type": "code",
   "execution_count": 18,
   "id": "51f405b4",
   "metadata": {},
   "outputs": [
    {
     "name": "stdout",
     "output_type": "stream",
     "text": [
      "Numero de instancias del conjuto de datos: 9357\n",
      "\n",
      "\n",
      "Imprimimos la primera y ultima instancia:\n",
      "\n",
      "Primera Instancia :\n",
      " Date             2004-03-10 00:00:00\n",
      "Time                        18:00:00\n",
      "CO(GT)                           2.6\n",
      "PT08.S1(CO)                   1360.0\n",
      "NMHC(GT)                         150\n",
      "C6H6(GT)                   11.881723\n",
      "PT08.S2(NMHC)                 1045.5\n",
      "NOx(GT)                        166.0\n",
      "PT08.S3(NOx)                 1056.25\n",
      "NO2(GT)                        113.0\n",
      "PT08.S4(NO2)                  1692.0\n",
      "PT08.S5(O3)                   1267.5\n",
      "T                               13.6\n",
      "RH                         48.875001\n",
      "AH                          0.757754\n",
      "Name: 0, dtype: object\n",
      "\n",
      "\n",
      "Primera Instancia :\n",
      " Date             2005-04-04 00:00:00\n",
      "Time                        14:00:00\n",
      "CO(GT)                           2.2\n",
      "PT08.S1(CO)                  1070.75\n",
      "NMHC(GT)                        -200\n",
      "C6H6(GT)                    11.93206\n",
      "PT08.S2(NMHC)                1047.25\n",
      "NOx(GT)                        265.2\n",
      "PT08.S3(NOx)                   654.0\n",
      "NO2(GT)                        167.7\n",
      "PT08.S4(NO2)                  1128.5\n",
      "PT08.S5(O3)                    816.0\n",
      "T                               28.5\n",
      "RH                            13.125\n",
      "AH                          0.502804\n",
      "Name: 9356, dtype: object\n"
     ]
    }
   ],
   "source": [
    "## ¿cuántas instancias tiene el dataset?\n",
    "num_instancias = data.shape[0]\n",
    "print('Numero de instancias del conjuto de datos:',num_instancias)\n",
    "print('\\n')\n",
    "## Imprimimos la primera y ultima instancia\n",
    "print('Imprimimos la primera y ultima instancia:\\n')\n",
    "primera_instancia = data.iloc[0]\n",
    "print('Primera Instancia :\\n', primera_instancia)\n",
    "print('\\n')\n",
    "ultima_instancia = data.iloc[9356]\n",
    "print('Primera Instancia :\\n', ultima_instancia)"
   ]
  },
  {
   "cell_type": "markdown",
   "id": "672c0ed2",
   "metadata": {},
   "source": [
    "El conjunto de datos tiene un total de 9357 instancias"
   ]
  },
  {
   "cell_type": "code",
   "execution_count": 28,
   "id": "e18abd86",
   "metadata": {},
   "outputs": [
    {
     "name": "stdout",
     "output_type": "stream",
     "text": [
      "Date             datetime64[ns]\n",
      "Time                     object\n",
      "CO(GT)                  float64\n",
      "PT08.S1(CO)             float64\n",
      "NMHC(GT)                  int64\n",
      "C6H6(GT)                float64\n",
      "PT08.S2(NMHC)           float64\n",
      "NOx(GT)                 float64\n",
      "PT08.S3(NOx)            float64\n",
      "NO2(GT)                 float64\n",
      "PT08.S4(NO2)            float64\n",
      "PT08.S5(O3)             float64\n",
      "T                       float64\n",
      "RH                      float64\n",
      "AH                      float64\n",
      "dtype: object\n",
      "\n",
      " separacion \n",
      "\n",
      "<class 'pandas.core.frame.DataFrame'>\n",
      "RangeIndex: 9357 entries, 0 to 9356\n",
      "Data columns (total 15 columns):\n",
      " #   Column         Non-Null Count  Dtype         \n",
      "---  ------         --------------  -----         \n",
      " 0   Date           9357 non-null   datetime64[ns]\n",
      " 1   Time           9357 non-null   object        \n",
      " 2   CO(GT)         9357 non-null   float64       \n",
      " 3   PT08.S1(CO)    9357 non-null   float64       \n",
      " 4   NMHC(GT)       9357 non-null   int64         \n",
      " 5   C6H6(GT)       9357 non-null   float64       \n",
      " 6   PT08.S2(NMHC)  9357 non-null   float64       \n",
      " 7   NOx(GT)        9357 non-null   float64       \n",
      " 8   PT08.S3(NOx)   9357 non-null   float64       \n",
      " 9   NO2(GT)        9357 non-null   float64       \n",
      " 10  PT08.S4(NO2)   9357 non-null   float64       \n",
      " 11  PT08.S5(O3)    9357 non-null   float64       \n",
      " 12  T              9357 non-null   float64       \n",
      " 13  RH             9357 non-null   float64       \n",
      " 14  AH             9357 non-null   float64       \n",
      "dtypes: datetime64[ns](1), float64(12), int64(1), object(1)\n",
      "memory usage: 1.1+ MB\n"
     ]
    }
   ],
   "source": [
    "## ¿cuál es el tipo de datos de cada una de las columnas?\n",
    "\n",
    "tipo_de_datos = data.dtypes\n",
    "print(tipo_de_datos)\n",
    "\n",
    "print('\\n separacion \\n')\n",
    "data.info()"
   ]
  },
  {
   "cell_type": "markdown",
   "id": "d1c990c1",
   "metadata": {},
   "source": [
    "_indica aquí tu respuesta_\n"
   ]
  },
  {
   "cell_type": "code",
   "execution_count": 4,
   "id": "150ac3f5",
   "metadata": {},
   "outputs": [],
   "source": [
    "## ¿cuántas columnas categóricas hay? ¿y cuántas continuas?"
   ]
  },
  {
   "cell_type": "markdown",
   "id": "dc913654",
   "metadata": {},
   "source": [
    "_indica aquí tu respuesta_"
   ]
  },
  {
   "cell_type": "code",
   "execution_count": 5,
   "id": "a52b4cf2",
   "metadata": {},
   "outputs": [],
   "source": [
    "## ¿existen valores nulos en el dataset?"
   ]
  },
  {
   "cell_type": "markdown",
   "id": "6a417398",
   "metadata": {},
   "source": [
    "_indica aquí tu respuesta_"
   ]
  },
  {
   "cell_type": "code",
   "execution_count": 6,
   "id": "e4c1b97d",
   "metadata": {},
   "outputs": [],
   "source": [
    "## ¿cuál es la variable respuesta?¿de qué tipo es?"
   ]
  },
  {
   "cell_type": "markdown",
   "id": "b1c1fdde",
   "metadata": {},
   "source": [
    "_indica aquí tu respuesta_"
   ]
  },
  {
   "cell_type": "code",
   "execution_count": 7,
   "id": "159b126d",
   "metadata": {},
   "outputs": [],
   "source": [
    "## Si te fijas en los estadísticos del dataset, ¿cómo es la distribución de las variables, CO, NOx y NO2? "
   ]
  },
  {
   "cell_type": "markdown",
   "id": "189880ab",
   "metadata": {},
   "source": [
    "_indica aquí tu respuesta_"
   ]
  },
  {
   "cell_type": "markdown",
   "id": "dab9bd22",
   "metadata": {},
   "source": [
    "¿Estas variables muestran alguna distribución especial?¿Tienen datos faltantes?¿y datos anómalos?"
   ]
  },
  {
   "cell_type": "markdown",
   "id": "43f922c8",
   "metadata": {},
   "source": [
    "_indica aquí tu respuesta_"
   ]
  },
  {
   "cell_type": "code",
   "execution_count": 8,
   "id": "895be4fe",
   "metadata": {},
   "outputs": [],
   "source": [
    "## ¿cómo son las correlaciones entre las variables del dataset?"
   ]
  },
  {
   "cell_type": "code",
   "execution_count": null,
   "id": "cc8d1c50",
   "metadata": {},
   "outputs": [],
   "source": []
  },
  {
   "cell_type": "markdown",
   "id": "3b0603eb",
   "metadata": {},
   "source": [
    "_indica aquí tu respuesta_"
   ]
  },
  {
   "cell_type": "code",
   "execution_count": 9,
   "id": "72192498",
   "metadata": {},
   "outputs": [],
   "source": [
    "## ¿qué tres variables son las más correlacionadas con la variable objetivo?"
   ]
  },
  {
   "cell_type": "markdown",
   "id": "d3763b5c",
   "metadata": {},
   "source": [
    "_indica aquí tu respuesta_"
   ]
  },
  {
   "cell_type": "code",
   "execution_count": null,
   "id": "92241ae1",
   "metadata": {},
   "outputs": [],
   "source": []
  },
  {
   "cell_type": "code",
   "execution_count": 10,
   "id": "33dbcc4f",
   "metadata": {},
   "outputs": [],
   "source": [
    "## ¿existe alguna variable que no tenga correlación?"
   ]
  },
  {
   "cell_type": "markdown",
   "id": "3f368719",
   "metadata": {},
   "source": [
    "_indica aquí tu respuesta_"
   ]
  },
  {
   "cell_type": "code",
   "execution_count": null,
   "id": "a8ee5560",
   "metadata": {},
   "outputs": [],
   "source": []
  },
  {
   "cell_type": "markdown",
   "id": "ce7c5aa2",
   "metadata": {},
   "source": [
    "En base al EDA realizado, ¿qué suposiciones se pueden hacer sobre los datos?¿qué conclusiones extraes para implementar el modelo predictivo?"
   ]
  },
  {
   "cell_type": "markdown",
   "id": "aae42f2d",
   "metadata": {},
   "source": [
    "_indica aquí tu respuesta_"
   ]
  },
  {
   "cell_type": "markdown",
   "id": "cec604c3",
   "metadata": {},
   "source": [
    "### Regresión\n",
    "\n",
    "Para llevar a cabo la tarea de regresión deseada se pretender hacer una comparativa de varios modelos. Unos usarán el algortimo de regresión lineal, y otros realizarán la predicción haciendo uso de árboles de decisión.\n",
    "\n",
    "Para los primeros modelos hay que usar el módulo https://scikit-learn.org/stable/modules/generated/sklearn.linear_model.LinearRegression.html \n",
    "\n",
    "El algortimo de Regresión Lineal necesita saber cuáles son las variables que va a tener en cuenta para realizar la estimación.\n",
    "\n",
    "El primero modelo que se debe construir usará una regresión lineal simple. Para ello sigue los siguientes pasos."
   ]
  },
  {
   "cell_type": "markdown",
   "id": "151b0658",
   "metadata": {},
   "source": [
    "Antes de empezar con la implementación de los modelos hace falta realizar una transformación de datos, escalarlos."
   ]
  },
  {
   "cell_type": "code",
   "execution_count": null,
   "id": "36baf00e",
   "metadata": {},
   "outputs": [],
   "source": [
    "from sklearn.preprocessing import MinMaxScaler\n",
    "from pandas import DataFrame\n",
    "\n",
    "\n",
    "scaler = StandardScaler()\n",
    "\n",
    "X_train = DataFrame(scaler.fit_transform(X_train))\n",
    "X_test = DataFrame(scaler.fit_transform(X_test))"
   ]
  },
  {
   "cell_type": "code",
   "execution_count": null,
   "id": "67581e8a",
   "metadata": {},
   "outputs": [],
   "source": [
    "# separar datos de entrenamiento y test"
   ]
  },
  {
   "cell_type": "code",
   "execution_count": null,
   "id": "c21728d4",
   "metadata": {},
   "outputs": [],
   "source": []
  },
  {
   "cell_type": "code",
   "execution_count": null,
   "id": "79d85a9d",
   "metadata": {},
   "outputs": [],
   "source": [
    "# escoger la variable que a partir del EDA realizado, consideres que mejor va a realizar la predicción"
   ]
  },
  {
   "cell_type": "code",
   "execution_count": null,
   "id": "8a58cecb",
   "metadata": {},
   "outputs": [],
   "source": []
  },
  {
   "cell_type": "code",
   "execution_count": null,
   "id": "c50feba1",
   "metadata": {},
   "outputs": [],
   "source": [
    "# entrena el modelo con los datos de entrenamiento"
   ]
  },
  {
   "cell_type": "code",
   "execution_count": null,
   "id": "fca81958",
   "metadata": {},
   "outputs": [],
   "source": []
  },
  {
   "cell_type": "code",
   "execution_count": null,
   "id": "2d84aebf",
   "metadata": {},
   "outputs": [],
   "source": [
    "# ¿cuáles son los valores aprendidos por el modelo para los parámetros?"
   ]
  },
  {
   "cell_type": "code",
   "execution_count": null,
   "id": "a26e799f",
   "metadata": {},
   "outputs": [],
   "source": []
  },
  {
   "cell_type": "markdown",
   "id": "fe08b6a5",
   "metadata": {},
   "source": [
    "Explica qué indican estos parámetros"
   ]
  },
  {
   "cell_type": "markdown",
   "id": "3a1790ad",
   "metadata": {},
   "source": [
    "_indica aquí tu respuesta_"
   ]
  },
  {
   "cell_type": "code",
   "execution_count": null,
   "id": "c9cb2757",
   "metadata": {},
   "outputs": [],
   "source": []
  },
  {
   "cell_type": "code",
   "execution_count": null,
   "id": "a47f6206",
   "metadata": {},
   "outputs": [],
   "source": [
    "# realiza las predicciones para el conjunto de datos de test"
   ]
  },
  {
   "cell_type": "code",
   "execution_count": null,
   "id": "fddecaad",
   "metadata": {},
   "outputs": [],
   "source": []
  },
  {
   "cell_type": "code",
   "execution_count": null,
   "id": "29b2919f",
   "metadata": {},
   "outputs": [],
   "source": [
    "# Ahora es necesario evaluar el modelo. ¿Qué métrica es mejor utilizar en este caso?"
   ]
  },
  {
   "cell_type": "markdown",
   "id": "3badc9dc",
   "metadata": {},
   "source": [
    "_indica aquí tu respuesta_"
   ]
  },
  {
   "cell_type": "code",
   "execution_count": null,
   "id": "21ad02dc",
   "metadata": {},
   "outputs": [],
   "source": []
  },
  {
   "cell_type": "code",
   "execution_count": null,
   "id": "7e62392a",
   "metadata": {},
   "outputs": [],
   "source": [
    "# ¿Qué error tiene el modelo? Explícalo."
   ]
  },
  {
   "cell_type": "markdown",
   "id": "32a87fc5",
   "metadata": {},
   "source": [
    "_indica aquí tu respuesta_"
   ]
  },
  {
   "cell_type": "code",
   "execution_count": null,
   "id": "b8dfd0d2",
   "metadata": {},
   "outputs": [],
   "source": []
  },
  {
   "cell_type": "markdown",
   "id": "fe964d5b",
   "metadata": {},
   "source": [
    "Ahora debes entrenar un segundo modelo que haga uso de una regresión lineal múltiple con todas las variables del dataset. Después de entrenar, realiza las predicciones para este segundo modelo."
   ]
  },
  {
   "cell_type": "code",
   "execution_count": null,
   "id": "322a1443",
   "metadata": {},
   "outputs": [],
   "source": []
  },
  {
   "cell_type": "code",
   "execution_count": null,
   "id": "c0e5837f",
   "metadata": {},
   "outputs": [],
   "source": []
  },
  {
   "cell_type": "code",
   "execution_count": null,
   "id": "776a7831",
   "metadata": {},
   "outputs": [],
   "source": []
  },
  {
   "cell_type": "markdown",
   "id": "9f545c06",
   "metadata": {},
   "source": [
    "¿Qué error tiene este modelo?¿Es mejor o peor que el anterior?"
   ]
  },
  {
   "cell_type": "markdown",
   "id": "9d348b07",
   "metadata": {},
   "source": [
    "_indica aquí tu respuesta_"
   ]
  },
  {
   "cell_type": "code",
   "execution_count": null,
   "id": "4d030be8",
   "metadata": {},
   "outputs": [],
   "source": []
  },
  {
   "cell_type": "markdown",
   "id": "bdf217a2",
   "metadata": {},
   "source": [
    "#### Regresión con árboles de decisión\n",
    "\n",
    "A continuación, se requiere hacer dos modelos que usen árboles de decisión para realizar las predicciones.\n",
    "\n",
    "Para los árboles de decisión, al ser una tarea de regresión, hay que usar el módulo https://scikit-learn.org/stable/modules/generated/sklearn.tree.DecisionTreeRegressor.html\n",
    "\n",
    "El algortimo de DTRegresson necesitar ajustar una serie de hiperparámetros para realizar las predicciones. La implementación de sklearn nos da mucha flexibilidad para nuestros modelos. En general, para los problemas más comunes de regresión, nos tenemos que preocupar de los siguientes hiperparámetros:\n",
    "\n",
    "* criterion\n",
    "* splitter\n",
    "* max_depth\n",
    "* min_samples_split\n",
    "* min_samples_leaf\n",
    "* max_features\n",
    "\n",
    "Indica qué son cada uno de estos hiperparámetros\n",
    "\n",
    "_indica aquí tu respuesta_\n",
    "\n",
    "Además de los hiperparámetros que acabas de descubrir, la implementación de sklearn tiene el hiperparámetro min_impurity_decrease\n",
    "\n",
    "¿Qué indica ese parámetro? ¿Para qué puede ser útil?\n",
    "\n",
    "_indica aquí tu respuesta_"
   ]
  },
  {
   "cell_type": "markdown",
   "id": "ee600bfe",
   "metadata": {},
   "source": [
    "Entrena un modelo de árboles de decisión donde, el criterio para realizar las particiones sea _poisson_, la profundidad máxima de los árboles debe ser 10, el número mínimo de ejemplos para realizar una partición debe ser 10, el número mínimo de ejemplos para considerarlo una hoja debe ser 2, y el número máximo de características deben ser todas."
   ]
  },
  {
   "cell_type": "code",
   "execution_count": null,
   "id": "0fdab3c8",
   "metadata": {},
   "outputs": [],
   "source": []
  },
  {
   "cell_type": "code",
   "execution_count": null,
   "id": "de30cfaa",
   "metadata": {},
   "outputs": [],
   "source": []
  },
  {
   "cell_type": "markdown",
   "id": "026fd3c0",
   "metadata": {},
   "source": [
    "Calcula MAE, R2 y RMSLE"
   ]
  },
  {
   "cell_type": "code",
   "execution_count": null,
   "id": "8d8427d2",
   "metadata": {},
   "outputs": [],
   "source": []
  },
  {
   "cell_type": "markdown",
   "id": "995d4579",
   "metadata": {},
   "source": [
    "¿Existe overfitting? Indica qué debes hacer para comprobar si hay overfitting."
   ]
  },
  {
   "cell_type": "code",
   "execution_count": null,
   "id": "1864f069",
   "metadata": {},
   "outputs": [],
   "source": []
  },
  {
   "cell_type": "markdown",
   "id": "fddad551",
   "metadata": {},
   "source": [
    "¿Este modelo es mejor, peor o igual que los de regresión lineal simple y múltiple? Razona tu respuesta."
   ]
  },
  {
   "cell_type": "markdown",
   "id": "e615537e",
   "metadata": {},
   "source": [
    "_indica aquí tu respuesta_"
   ]
  },
  {
   "cell_type": "markdown",
   "id": "cbe59d0d",
   "metadata": {},
   "source": [
    "**Comparativa**\n",
    "\n",
    "En base al EDA realizado, a las decisiones tomadas sobre los datos e hiperparámetros y a las características computacionales de tu equipo. ¿Qué modelo obtiene mejores resultados de regresión?"
   ]
  },
  {
   "cell_type": "code",
   "execution_count": null,
   "id": "4d40bbe5",
   "metadata": {},
   "outputs": [],
   "source": []
  },
  {
   "cell_type": "code",
   "execution_count": null,
   "id": "01353241",
   "metadata": {},
   "outputs": [],
   "source": []
  },
  {
   "cell_type": "markdown",
   "id": "2feb7854",
   "metadata": {},
   "source": [
    "## Investigación\n",
    "\n",
    "Buscar un artículo científico (https://scholar.google.es/) con un caso de uso de regresión empleando una de las dos técnicas (o ambas) vistas en la actividad. Los artículos deben estar en revistas científicas, y deben ser posteriores a 2015. No debe utilizar técnicas de Deep Learning.\n",
    "\n",
    "_introduce aquí la referencia APA del artículo_\n",
    "\n",
    "título, autores, revista, año de publicación\n",
    "\n",
    "Objetivo: cuál es el objetivo de la investigación, es decir a qué problema real está aplicando la regresión. Técnicas de regresión empleadas y si realiza alguna adaptación. Principales resultados de la aplicación y de la investigación."
   ]
  },
  {
   "cell_type": "code",
   "execution_count": null,
   "id": "6061c04d",
   "metadata": {},
   "outputs": [],
   "source": []
  }
 ],
 "metadata": {
  "kernelspec": {
   "display_name": "Python 3 (ipykernel)",
   "language": "python",
   "name": "python3"
  },
  "language_info": {
   "codemirror_mode": {
    "name": "ipython",
    "version": 3
   },
   "file_extension": ".py",
   "mimetype": "text/x-python",
   "name": "python",
   "nbconvert_exporter": "python",
   "pygments_lexer": "ipython3",
   "version": "3.11.5"
  }
 },
 "nbformat": 4,
 "nbformat_minor": 5
}
